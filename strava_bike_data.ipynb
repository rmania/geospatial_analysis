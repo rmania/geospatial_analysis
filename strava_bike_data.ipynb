{
 "cells": [
  {
   "cell_type": "markdown",
   "metadata": {},
   "source": [
    "### Analyzing a bike trip from Lyon to amsterdam \n",
    "\n",
    "We parse Strava gpx files and see what stats and plot we can make."
   ]
  },
  {
   "cell_type": "code",
   "execution_count": 6,
   "metadata": {},
   "outputs": [],
   "source": [
    "import gpxpy\n",
    "import os\n",
    "from glob import glob\n",
    "import pandas as pd\n",
    "import matplotlib.pyplot as plt\n",
    "from pathlib import Path\n",
    "import geopandas as gpd\n",
    "PATH = '/home/diederik/ams/pyprojects/geospatial_analysis/data/strava/'\n",
    "p = Path(PATH)\n",
    "files = list(p.rglob('*.gpx*'))"
   ]
  },
  {
   "cell_type": "code",
   "execution_count": 7,
   "metadata": {},
   "outputs": [],
   "source": [
    "def load_bike_data(gpx_files_path, filter=\"\"):\n",
    "    files = list(p.rglob('*.gpx*'))\n",
    "    \n",
    "    track_data = []\n",
    "    \n",
    "    for file_idx, file in enumerate(files): \n",
    "        gpx = gpxpy.parse(open(file, 'r'))\n",
    "        # Loop through tracks\n",
    "        for track_idx, track in enumerate(gpx.tracks):\n",
    "            track_name = track.name\n",
    "            track_time = track.get_time_bounds().start_time\n",
    "            track_length = track.length_3d()\n",
    "            track_duration = track.get_duration()\n",
    "            track_speed = track.get_moving_data().max_speed\n",
    "            \n",
    "            for i, segment in enumerate(track.segments):\n",
    "                segment_length = segment.length_3d()\n",
    "                for point_idx, point in enumerate(segment.points):\n",
    "                    track_data.append([file_idx, os.path.basename(file), track_idx, track_name, \n",
    "                                     track_time, track_length, track_duration, track_speed, \n",
    "                                     i, segment_length, point.time, point.latitude, \n",
    "                                     point.longitude, point.elevation, segment.get_speed(i)])\n",
    "    return track_data"
   ]
  },
  {
   "cell_type": "code",
   "execution_count": 28,
   "metadata": {},
   "outputs": [],
   "source": [
    "def create_dateparts_columns(df, datetime_col, date_fmt):\n",
    "    \"\"\"\n",
    "    Convert string date column to datetime and add date, day, weekday and hour columns to dataframe\n",
    "    INPUT:\n",
    "    df: pandas df\n",
    "    datetime_col: name of strin datetime column in the dataframe to be converted to datetime\n",
    "    date_fmt: string format of datetime column\n",
    "    RETURNS:\n",
    "    dataframe with extra columns\n",
    "    \"\"\"\n",
    "    df['point_time'] = pd.to_datetime(df[datetime_col], format = date_fmt)\n",
    "    df = df.assign(date = lambda x: x.point_time.dt.date,\n",
    "                   day = lambda x: x.point_time.dt.day,\n",
    "                   weekday = lambda x: x.point_time.dt.weekday,\n",
    "                   hour = lambda x: x.point_time.dt.hour)\n",
    "    return df"
   ]
  },
  {
   "cell_type": "code",
   "execution_count": 56,
   "metadata": {},
   "outputs": [],
   "source": [
    "data = load_bike_data(gpx_files_path=PATH, filter=\"\")\n",
    "df = pd.DataFrame(data, columns=['file_index', 'file_name', 'index', 'etappe',\n",
    "                              'time', 'length', 'duration', 'max_speed',\n",
    "                              'segment_index', 'segment_length', 'point_time', 'lat',\n",
    "                              'lon', 'elev', 'speed'])\n",
    "# to geopandas\n",
    "from shapely.geometry import Point\n",
    "df = gpd.GeoDataFrame(df, crs = {'init': 'epsg:4326'})\n",
    "df['geometry'] = df.apply(lambda row: Point(row[\"lon\"], row[\"lat\"]), axis=1)"
   ]
  },
  {
   "cell_type": "code",
   "execution_count": 57,
   "metadata": {},
   "outputs": [],
   "source": [
    "df = create_dateparts_columns(df, datetime_col='point_time', date_fmt='%Y-%m-%d %H:%M:%S')"
   ]
  },
  {
   "cell_type": "code",
   "execution_count": 58,
   "metadata": {},
   "outputs": [],
   "source": [
    "df['length'] /= 1e3 #?\n",
    "df['segment_length'] /= 1e3"
   ]
  },
  {
   "cell_type": "code",
   "execution_count": 59,
   "metadata": {},
   "outputs": [
    {
     "data": {
      "text/plain": [
       "Étape 7# Bâle - Saint Dié des Vosges                    7859\n",
       "Étape 4# Sion - Locarno                                 7843\n",
       "Étape 3# Aoste - Sion                                   7527\n",
       "Étape 5# Locarno - Lucerne : St Gotthard via Tremola    7355\n",
       "Étape 2# Albertville - Aoste                            7102\n",
       "Étape 11# Achouffe - Eindhoven                          7034\n",
       "Étape 10# Verdun - Achouffe                             6375\n",
       "Étape 1 # Lyon - Albertville                            5823\n",
       "Étape 6# Lucerne - Bâle et la canicule                  4276\n",
       "Étape 12# Eindhoven - Amsterdam !!! XXX !!!             3773\n",
       "Étape 9# Nancy - Verdun                                 3736\n",
       "Étape 8# Saint Dié - Nancy                              3544\n",
       "Name: etappe, dtype: int64"
      ]
     },
     "execution_count": 59,
     "metadata": {},
     "output_type": "execute_result"
    }
   ],
   "source": [
    "df.etappe.value_counts()"
   ]
  },
  {
   "cell_type": "code",
   "execution_count": 60,
   "metadata": {},
   "outputs": [
    {
     "data": {
      "text/html": [
       "<div>\n",
       "<style scoped>\n",
       "    .dataframe tbody tr th:only-of-type {\n",
       "        vertical-align: middle;\n",
       "    }\n",
       "\n",
       "    .dataframe tbody tr th {\n",
       "        vertical-align: top;\n",
       "    }\n",
       "\n",
       "    .dataframe thead th {\n",
       "        text-align: right;\n",
       "    }\n",
       "</style>\n",
       "<table border=\"1\" class=\"dataframe\">\n",
       "  <thead>\n",
       "    <tr style=\"text-align: right;\">\n",
       "      <th></th>\n",
       "      <th>file_index</th>\n",
       "      <th>file_name</th>\n",
       "      <th>index</th>\n",
       "      <th>etappe</th>\n",
       "      <th>time</th>\n",
       "      <th>length</th>\n",
       "      <th>duration</th>\n",
       "      <th>max_speed</th>\n",
       "      <th>segment_index</th>\n",
       "      <th>segment_length</th>\n",
       "      <th>point_time</th>\n",
       "      <th>lat</th>\n",
       "      <th>lon</th>\n",
       "      <th>elev</th>\n",
       "      <th>speed</th>\n",
       "      <th>geometry</th>\n",
       "      <th>date</th>\n",
       "      <th>day</th>\n",
       "      <th>weekday</th>\n",
       "      <th>hour</th>\n",
       "    </tr>\n",
       "  </thead>\n",
       "  <tbody>\n",
       "    <tr>\n",
       "      <th>0</th>\n",
       "      <td>0</td>\n",
       "      <td>11_tape_11_Achouffe_Eindhoven.gpx</td>\n",
       "      <td>0</td>\n",
       "      <td>Étape 11# Achouffe - Eindhoven</td>\n",
       "      <td>2018-08-09 04:26:22</td>\n",
       "      <td>212.903315</td>\n",
       "      <td>43775</td>\n",
       "      <td>13.2689</td>\n",
       "      <td>0</td>\n",
       "      <td>212.903315</td>\n",
       "      <td>2018-08-09 04:26:22</td>\n",
       "      <td>50.164228</td>\n",
       "      <td>5.67349</td>\n",
       "      <td>412.8</td>\n",
       "      <td>5.082558</td>\n",
       "      <td>POINT (5.67349 50.164228)</td>\n",
       "      <td>2018-08-09</td>\n",
       "      <td>9</td>\n",
       "      <td>3</td>\n",
       "      <td>4</td>\n",
       "    </tr>\n",
       "  </tbody>\n",
       "</table>\n",
       "</div>"
      ],
      "text/plain": [
       "   file_index                          file_name  index  \\\n",
       "0           0  11_tape_11_Achouffe_Eindhoven.gpx      0   \n",
       "\n",
       "                           etappe                time      length  duration  \\\n",
       "0  Étape 11# Achouffe - Eindhoven 2018-08-09 04:26:22  212.903315     43775   \n",
       "\n",
       "   max_speed  segment_index  segment_length          point_time        lat  \\\n",
       "0    13.2689              0      212.903315 2018-08-09 04:26:22  50.164228   \n",
       "\n",
       "       lon   elev     speed                   geometry        date  day  \\\n",
       "0  5.67349  412.8  5.082558  POINT (5.67349 50.164228)  2018-08-09    9   \n",
       "\n",
       "   weekday  hour  \n",
       "0        3     4  "
      ]
     },
     "execution_count": 60,
     "metadata": {},
     "output_type": "execute_result"
    }
   ],
   "source": [
    "df.head(1)"
   ]
  },
  {
   "cell_type": "code",
   "execution_count": 93,
   "metadata": {},
   "outputs": [],
   "source": [
    "df['duration'] = df['duration']/60/60"
   ]
  },
  {
   "cell_type": "code",
   "execution_count": 92,
   "metadata": {},
   "outputs": [
    {
     "data": {
      "text/plain": [
       "8.049722222222222"
      ]
     },
     "execution_count": 92,
     "metadata": {},
     "output_type": "execute_result"
    }
   ],
   "source": [
    "28979/60/60\n"
   ]
  },
  {
   "cell_type": "code",
   "execution_count": 95,
   "metadata": {},
   "outputs": [
    {
     "data": {
      "text/plain": [
       "etappe\n",
       "Étape 1 # Lyon - Albertville                             7.999167\n",
       "Étape 10# Verdun - Achouffe                              9.987222\n",
       "Étape 11# Achouffe - Eindhoven                          12.159722\n",
       "Étape 12# Eindhoven - Amsterdam !!! XXX !!!              5.913889\n",
       "Étape 2# Albertville - Aoste                             9.110278\n",
       "Étape 3# Aoste - Sion                                    9.609722\n",
       "Étape 4# Sion - Locarno                                 11.135000\n",
       "Étape 5# Locarno - Lucerne : St Gotthard via Tremola     9.608889\n",
       "Étape 6# Lucerne - Bâle et la canicule                   6.367778\n",
       "Étape 7# Bâle - Saint Dié des Vosges                    10.859444\n",
       "Étape 8# Saint Dié - Nancy                               6.270000\n",
       "Étape 9# Nancy - Verdun                                  5.138889\n",
       "Name: duration, dtype: float64"
      ]
     },
     "execution_count": 95,
     "metadata": {},
     "output_type": "execute_result"
    }
   ],
   "source": [
    "df.groupby(['etappe']).duration.mean()"
   ]
  },
  {
   "cell_type": "code",
   "execution_count": 81,
   "metadata": {},
   "outputs": [
    {
     "data": {
      "text/plain": [
       "[<matplotlib.lines.Line2D at 0x7efdf2ed24a8>]"
      ]
     },
     "execution_count": 81,
     "metadata": {},
     "output_type": "execute_result"
    },
    {
     "data": {
      "image/png": "[encoded data removed]",
      "text/plain": [
       "<matplotlib.figure.Figure at 0x7efdd3686da0>"
      ]
     },
     "metadata": {},
     "output_type": "display_data"
    }
   ],
   "source": [
    "df = df.sort_values(by='time', ascending=False)\n",
    "plt.plot(df['point_time'], df['elev'])"
   ]
  },
  {
   "cell_type": "code",
   "execution_count": 62,
   "metadata": {},
   "outputs": [
    {
     "data": {
      "image/png": "[encoded data removed]",
      "text/plain": [
       "<matplotlib.figure.Figure at 0x7efdf2ec4470>"
      ]
     },
     "metadata": {},
     "output_type": "display_data"
    }
   ],
   "source": [
    "fig, ax = plt.subplots(figsize=[10,6])\n",
    "tracks_grouped = df.groupby(['day'])\n",
    "tracks_grouped['segment_length'].mean().plot(kind='bar', ax=ax)\n",
    "xlabels = [text.get_text() for text in  ax.get_xticklabels()]\n",
    "ax.set_xticklabels(xlabels, rotation=70)\n",
    "_ = ax.set_ylabel('Distance (km)')"
   ]
  },
  {
   "cell_type": "code",
   "execution_count": 63,
   "metadata": {},
   "outputs": [],
   "source": [
    "def clear_frame(ax): \n",
    "    ax.xaxis.set_visible(False) \n",
    "    ax.yaxis.set_visible(False) \n",
    "    for spine in ax.spines.values(): \n",
    "        spine.set_visible(False)"
   ]
  },
  {
   "cell_type": "code",
   "execution_count": 86,
   "metadata": {},
   "outputs": [
    {
     "data": {
      "text/plain": [
       "0    72247\n",
       "Name: index, dtype: int64"
      ]
     },
     "execution_count": 86,
     "metadata": {},
     "output_type": "execute_result"
    }
   ],
   "source": [
    "df['index'].value_counts()"
   ]
  },
  {
   "cell_type": "code",
   "execution_count": 45,
   "metadata": {},
   "outputs": [
    {
     "data": {
      "text/plain": [
       "5"
      ]
     },
     "execution_count": 45,
     "metadata": {},
     "output_type": "execute_result"
    }
   ],
   "source": [
    "len(num_cols)"
   ]
  },
  {
   "cell_type": "code",
   "execution_count": 96,
   "metadata": {},
   "outputs": [
    {
     "data": {
      "image/png": "[encoded data removed]",
      "text/plain": [
       "<matplotlib.figure.Figure at 0x7efdd271e668>"
      ]
     },
     "metadata": {},
     "output_type": "display_data"
    }
   ],
   "source": [
    "num_cols = ['length', 'max_speed', 'duration', 'elev', 'speed']\n",
    "fig, ax = plt.subplots(len(num_cols), 1, figsize= [8,10])\n",
    "\n",
    "for i, col in enumerate(df[num_cols].columns):\n",
    "    df[col].hist(bins=20, ax=ax[i])\n",
    "    ax[i].set_title(col)\n",
    "plt.tight_layout()"
   ]
  },
  {
   "cell_type": "code",
   "execution_count": 231,
   "metadata": {},
   "outputs": [],
   "source": [
    "df['elev_bins'] = pd.cut(df['elev'], bins = [0, 500, 1000, 1500, 2000], \n",
    "                         labels=['0-500', '500-1000', '1000-1500', '1500-2000'])"
   ]
  },
  {
   "cell_type": "code",
   "execution_count": 234,
   "metadata": {},
   "outputs": [
    {
     "data": {
      "text/plain": [
       "<matplotlib.axes._subplots.AxesSubplot at 0x7f3c053c92b0>"
      ]
     },
     "execution_count": 234,
     "metadata": {},
     "output_type": "execute_result"
    },
    {
     "data": {
      "image/png": "[encoded data removed]",
      "text/plain": [
       "<matplotlib.figure.Figure at 0x7f3c065d5748>"
      ]
     },
     "metadata": {},
     "output_type": "display_data"
    }
   ],
   "source": [
    "fig,ax = plt.subplots(figsize = [12,12], facecolor = '0.05')\n",
    "ax.set_aspect('equal')\n",
    "ax.set_axis_off()\n",
    "df.plot(color = 'deepskyblue', lw = 0.9, alpha = 0.8, ax=ax)"
   ]
  }
 ],
 "metadata": {
  "kernelspec": {
   "display_name": "Python 3",
   "language": "python",
   "name": "python3"
  },
  "language_info": {
   "codemirror_mode": {
    "name": "ipython",
    "version": 3
   },
   "file_extension": ".py",
   "mimetype": "text/x-python",
   "name": "python",
   "nbconvert_exporter": "python",
   "pygments_lexer": "ipython3",
   "version": "3.6.4"
  }
 },
 "nbformat": 4,
 "nbformat_minor": 2
}
