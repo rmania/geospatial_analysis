{
 "cells": [
  {
   "cell_type": "markdown",
   "metadata": {},
   "source": [
    "### Analyzing a bike trip from Lyon to amsterdam \n",
    "\n",
    "We parse Strava gpx files and see what stats and plot we can make."
   ]
  },
  {
   "cell_type": "code",
   "execution_count": 145,
   "metadata": {},
   "outputs": [],
   "source": [
    "import gpxpy\n",
    "import os\n",
    "from glob import glob\n",
    "import pandas as pd\n",
    "pd.set_option('display.max_rows', 200)\n",
    "import numpy as np\n",
    "import matplotlib.pyplot as plt\n",
    "from pathlib import Path\n",
    "import geopandas as gpd\n",
    "from geopy import distance\n",
    "from shapely.geometry import Point, Polygon\n",
    "\n",
    "PATH = '/home/diederik/ams/pyprojects/geospatial_analysis/data/strava/'\n",
    "p = Path(PATH)\n",
    "files = list(p.rglob('*.gpx*'))"
   ]
  },
  {
   "cell_type": "code",
   "execution_count": 3,
   "metadata": {},
   "outputs": [],
   "source": [
    "def load_bike_data(gpx_files_path, filter=\"\"):\n",
    "    files = list(p.rglob('*.gpx*'))\n",
    "    \n",
    "    track_data = []\n",
    "    \n",
    "    for file_idx, file in enumerate(files): \n",
    "        gpx = gpxpy.parse(open(file, 'r'))\n",
    "        # Loop through tracks\n",
    "        for track_idx, track in enumerate(gpx.tracks):\n",
    "            track_name = track.name\n",
    "            track_time = track.get_time_bounds().start_time\n",
    "            track_length = track.length_3d()\n",
    "            track_duration = track.get_duration()\n",
    "            track_speed = track.get_moving_data().max_speed\n",
    "            \n",
    "            for i, segment in enumerate(track.segments):\n",
    "                segment_length = segment.length_3d()\n",
    "                for point_idx, point in enumerate(segment.points):\n",
    "                    track_data.append([file_idx, os.path.basename(file), track_idx, track_name, \n",
    "                                     track_time, track_length, track_duration, track_speed, \n",
    "                                     i, segment_length, point.time, point.latitude, \n",
    "                                     point.longitude, point.elevation, segment.get_speed(i)])\n",
    "    return track_data"
   ]
  },
  {
   "cell_type": "code",
   "execution_count": 4,
   "metadata": {},
   "outputs": [],
   "source": [
    "def create_dateparts_columns(df, datetime_col, date_fmt):\n",
    "    \"\"\"\n",
    "    Convert string date column to datetime and add date, day, weekday and hour columns to dataframe\n",
    "    INPUT:\n",
    "    df: pandas df\n",
    "    datetime_col: name column to be converted to datetime\n",
    "    date_fmt: string format of datetime column\n",
    "    RETURNS:\n",
    "    dataframe with extra columns\n",
    "    \"\"\"\n",
    "    df['point_time'] = pd.to_datetime(df[datetime_col], format = date_fmt)\n",
    "    df = df.assign(date = lambda x: x.point_time.dt.date,\n",
    "                   day = lambda x: x.point_time.dt.day,\n",
    "                   weekday = lambda x: x.point_time.dt.weekday,\n",
    "                   hour = lambda x: x.point_time.dt.hour)\n",
    "    return df"
   ]
  },
  {
   "cell_type": "code",
   "execution_count": 140,
   "metadata": {},
   "outputs": [],
   "source": [
    "data = load_bike_data(gpx_files_path=PATH, filter=\"\")\n",
    "df = pd.DataFrame(data, columns=['file_index', 'file_name', 'index', 'etappe',\n",
    "                              'time', 'length', 'duration', 'max_speed',\n",
    "                              'segment_index', 'segment_length', 'point_time', 'lat',\n",
    "                              'lon', 'elev', 'speed'])\n",
    "df = create_dateparts_columns(df, datetime_col='point_time', date_fmt='%Y-%m-%d %H:%M:%S')\n",
    "# to geopandas\n",
    "#df = gpd.GeoDataFrame(df, crs = {'init': 'epsg:4326'})\n",
    "#df['geometry'] = df.apply(lambda row: Point(row[\"lon\"], row[\"lat\"]), axis=1)"
   ]
  },
  {
   "cell_type": "code",
   "execution_count": 277,
   "metadata": {},
   "outputs": [],
   "source": [
    "test = df[df.file_index == 0]"
   ]
  },
  {
   "cell_type": "code",
   "execution_count": 278,
   "metadata": {},
   "outputs": [],
   "source": [
    "test = test.copy()\n",
    "test['time'] = test.point_time.dt.time\n",
    "test['start_time'] = 'no'\n",
    "test.loc[test.point_time == test.point_time.iloc[0], 'start_time'] = 'start_time'\n",
    "test.loc[test.point_time == test.point_time.iloc[-1], 'start_time'] = 'end_time'"
   ]
  },
  {
   "cell_type": "code",
   "execution_count": 279,
   "metadata": {},
   "outputs": [],
   "source": [
    "test = test.set_index('point_time').sort_index(ascending=True)"
   ]
  },
  {
   "cell_type": "code",
   "execution_count": 379,
   "metadata": {},
   "outputs": [],
   "source": [
    "#https://codeburst.io/dealing-with-datetimes-like-a-pro-in-pandas-b80d3d808a7f\n",
    "#df['week_start'] = df.index.to_period('W').start_time"
   ]
  },
  {
   "cell_type": "code",
   "execution_count": 280,
   "metadata": {},
   "outputs": [],
   "source": [
    "date = test['date'][0]\n",
    "time_range = pd.date_range(f\"{date} 00:00:00\",  f\"{date} 23:00:00\", freq='1min')"
   ]
  },
  {
   "cell_type": "code",
   "execution_count": 281,
   "metadata": {},
   "outputs": [],
   "source": [
    "# duration to hours\n",
    "test['duration'] = test['duration']/60/60"
   ]
  },
  {
   "cell_type": "code",
   "execution_count": 282,
   "metadata": {},
   "outputs": [],
   "source": [
    "# length to km \n",
    "test['length'] = test.length / 1000"
   ]
  },
  {
   "cell_type": "code",
   "execution_count": 285,
   "metadata": {},
   "outputs": [],
   "source": [
    "# elev_change\n",
    "test['elev_change'] = test.elev.subtract(test.elev.shift(1))"
   ]
  },
  {
   "cell_type": "code",
   "execution_count": null,
   "metadata": {},
   "outputs": [],
   "source": [
    "# segment index\n",
    "test['segment_index'] = pd.Series(range(0, len(test)),dtype='int', index=test.index)"
   ]
  },
  {
   "cell_type": "code",
   "execution_count": 315,
   "metadata": {},
   "outputs": [],
   "source": [
    "segment_dist_list_ = []\n",
    "for i in range(0, len(test.segment_index)):\n",
    "    # \n",
    "    if i < range(0, len(test.segment_index))[-1]:\n",
    "        (segment_dist_list_.append(\n",
    "            distance.vincenty(\n",
    "             tuple((test.loc[(test.segment_index == i, ['lat', 'lon'])].values)\n",
    "                   .reshape(1, -1)[0]),\n",
    "             tuple((test.loc[(test.segment_index == i + 1, ['lat', 'lon'])].values)\n",
    "                   .reshape(1, -1)[0]))\n",
    "            .km)\n",
    "        )\n",
    "    else:\n",
    "        segment_dist_list_.append(0)"
   ]
  },
  {
   "cell_type": "code",
   "execution_count": 320,
   "metadata": {},
   "outputs": [
    {
     "data": {
      "text/html": [
       "<div>\n",
       "<style scoped>\n",
       "    .dataframe tbody tr th:only-of-type {\n",
       "        vertical-align: middle;\n",
       "    }\n",
       "\n",
       "    .dataframe tbody tr th {\n",
       "        vertical-align: top;\n",
       "    }\n",
       "\n",
       "    .dataframe thead th {\n",
       "        text-align: right;\n",
       "    }\n",
       "</style>\n",
       "<table border=\"1\" class=\"dataframe\">\n",
       "  <thead>\n",
       "    <tr style=\"text-align: right;\">\n",
       "      <th></th>\n",
       "      <th>file_index</th>\n",
       "      <th>file_name</th>\n",
       "      <th>index</th>\n",
       "      <th>etappe</th>\n",
       "      <th>time</th>\n",
       "      <th>length</th>\n",
       "      <th>duration</th>\n",
       "      <th>max_speed</th>\n",
       "      <th>segment_index</th>\n",
       "      <th>segment_length</th>\n",
       "      <th>lat</th>\n",
       "      <th>lon</th>\n",
       "      <th>elev</th>\n",
       "      <th>speed</th>\n",
       "      <th>date</th>\n",
       "      <th>day</th>\n",
       "      <th>weekday</th>\n",
       "      <th>hour</th>\n",
       "      <th>start_time</th>\n",
       "      <th>elev_change</th>\n",
       "    </tr>\n",
       "    <tr>\n",
       "      <th>point_time</th>\n",
       "      <th></th>\n",
       "      <th></th>\n",
       "      <th></th>\n",
       "      <th></th>\n",
       "      <th></th>\n",
       "      <th></th>\n",
       "      <th></th>\n",
       "      <th></th>\n",
       "      <th></th>\n",
       "      <th></th>\n",
       "      <th></th>\n",
       "      <th></th>\n",
       "      <th></th>\n",
       "      <th></th>\n",
       "      <th></th>\n",
       "      <th></th>\n",
       "      <th></th>\n",
       "      <th></th>\n",
       "      <th></th>\n",
       "      <th></th>\n",
       "    </tr>\n",
       "  </thead>\n",
       "  <tbody>\n",
       "    <tr>\n",
       "      <th>2018-08-09 04:26:22</th>\n",
       "      <td>0</td>\n",
       "      <td>11_tape_11_Achouffe_Eindhoven.gpx</td>\n",
       "      <td>0</td>\n",
       "      <td>Étape 11# Achouffe - Eindhoven</td>\n",
       "      <td>04:26:22</td>\n",
       "      <td>212.903315</td>\n",
       "      <td>12.159722</td>\n",
       "      <td>13.2689</td>\n",
       "      <td>0</td>\n",
       "      <td>0.005093</td>\n",
       "      <td>50.164228</td>\n",
       "      <td>5.673490</td>\n",
       "      <td>412.8</td>\n",
       "      <td>5.082558</td>\n",
       "      <td>2018-08-09</td>\n",
       "      <td>9</td>\n",
       "      <td>3</td>\n",
       "      <td>4</td>\n",
       "      <td>start_time</td>\n",
       "      <td>NaN</td>\n",
       "    </tr>\n",
       "    <tr>\n",
       "      <th>2018-08-09 04:26:23</th>\n",
       "      <td>0</td>\n",
       "      <td>11_tape_11_Achouffe_Eindhoven.gpx</td>\n",
       "      <td>0</td>\n",
       "      <td>Étape 11# Achouffe - Eindhoven</td>\n",
       "      <td>04:26:23</td>\n",
       "      <td>212.903315</td>\n",
       "      <td>12.159722</td>\n",
       "      <td>13.2689</td>\n",
       "      <td>1</td>\n",
       "      <td>0.005046</td>\n",
       "      <td>50.164232</td>\n",
       "      <td>5.673561</td>\n",
       "      <td>412.8</td>\n",
       "      <td>5.082558</td>\n",
       "      <td>2018-08-09</td>\n",
       "      <td>9</td>\n",
       "      <td>3</td>\n",
       "      <td>4</td>\n",
       "      <td>no</td>\n",
       "      <td>0.0</td>\n",
       "    </tr>\n",
       "    <tr>\n",
       "      <th>2018-08-09 04:26:24</th>\n",
       "      <td>0</td>\n",
       "      <td>11_tape_11_Achouffe_Eindhoven.gpx</td>\n",
       "      <td>0</td>\n",
       "      <td>Étape 11# Achouffe - Eindhoven</td>\n",
       "      <td>04:26:24</td>\n",
       "      <td>212.903315</td>\n",
       "      <td>12.159722</td>\n",
       "      <td>13.2689</td>\n",
       "      <td>2</td>\n",
       "      <td>0.004975</td>\n",
       "      <td>50.164238</td>\n",
       "      <td>5.673631</td>\n",
       "      <td>412.6</td>\n",
       "      <td>5.082558</td>\n",
       "      <td>2018-08-09</td>\n",
       "      <td>9</td>\n",
       "      <td>3</td>\n",
       "      <td>4</td>\n",
       "      <td>no</td>\n",
       "      <td>-0.2</td>\n",
       "    </tr>\n",
       "    <tr>\n",
       "      <th>2018-08-09 04:26:25</th>\n",
       "      <td>0</td>\n",
       "      <td>11_tape_11_Achouffe_Eindhoven.gpx</td>\n",
       "      <td>0</td>\n",
       "      <td>Étape 11# Achouffe - Eindhoven</td>\n",
       "      <td>04:26:25</td>\n",
       "      <td>212.903315</td>\n",
       "      <td>12.159722</td>\n",
       "      <td>13.2689</td>\n",
       "      <td>3</td>\n",
       "      <td>0.004941</td>\n",
       "      <td>50.164244</td>\n",
       "      <td>5.673700</td>\n",
       "      <td>412.8</td>\n",
       "      <td>5.082558</td>\n",
       "      <td>2018-08-09</td>\n",
       "      <td>9</td>\n",
       "      <td>3</td>\n",
       "      <td>4</td>\n",
       "      <td>no</td>\n",
       "      <td>0.2</td>\n",
       "    </tr>\n",
       "    <tr>\n",
       "      <th>2018-08-09 04:26:26</th>\n",
       "      <td>0</td>\n",
       "      <td>11_tape_11_Achouffe_Eindhoven.gpx</td>\n",
       "      <td>0</td>\n",
       "      <td>Étape 11# Achouffe - Eindhoven</td>\n",
       "      <td>04:26:26</td>\n",
       "      <td>212.903315</td>\n",
       "      <td>12.159722</td>\n",
       "      <td>13.2689</td>\n",
       "      <td>4</td>\n",
       "      <td>0.010025</td>\n",
       "      <td>50.164247</td>\n",
       "      <td>5.673769</td>\n",
       "      <td>412.6</td>\n",
       "      <td>5.082558</td>\n",
       "      <td>2018-08-09</td>\n",
       "      <td>9</td>\n",
       "      <td>3</td>\n",
       "      <td>4</td>\n",
       "      <td>no</td>\n",
       "      <td>-0.2</td>\n",
       "    </tr>\n",
       "  </tbody>\n",
       "</table>\n",
       "</div>"
      ],
      "text/plain": [
       "                     file_index                          file_name  index  \\\n",
       "point_time                                                                  \n",
       "2018-08-09 04:26:22           0  11_tape_11_Achouffe_Eindhoven.gpx      0   \n",
       "2018-08-09 04:26:23           0  11_tape_11_Achouffe_Eindhoven.gpx      0   \n",
       "2018-08-09 04:26:24           0  11_tape_11_Achouffe_Eindhoven.gpx      0   \n",
       "2018-08-09 04:26:25           0  11_tape_11_Achouffe_Eindhoven.gpx      0   \n",
       "2018-08-09 04:26:26           0  11_tape_11_Achouffe_Eindhoven.gpx      0   \n",
       "\n",
       "                                             etappe      time      length  \\\n",
       "point_time                                                                  \n",
       "2018-08-09 04:26:22  Étape 11# Achouffe - Eindhoven  04:26:22  212.903315   \n",
       "2018-08-09 04:26:23  Étape 11# Achouffe - Eindhoven  04:26:23  212.903315   \n",
       "2018-08-09 04:26:24  Étape 11# Achouffe - Eindhoven  04:26:24  212.903315   \n",
       "2018-08-09 04:26:25  Étape 11# Achouffe - Eindhoven  04:26:25  212.903315   \n",
       "2018-08-09 04:26:26  Étape 11# Achouffe - Eindhoven  04:26:26  212.903315   \n",
       "\n",
       "                      duration  max_speed  segment_index  segment_length  \\\n",
       "point_time                                                                 \n",
       "2018-08-09 04:26:22  12.159722    13.2689              0        0.005093   \n",
       "2018-08-09 04:26:23  12.159722    13.2689              1        0.005046   \n",
       "2018-08-09 04:26:24  12.159722    13.2689              2        0.004975   \n",
       "2018-08-09 04:26:25  12.159722    13.2689              3        0.004941   \n",
       "2018-08-09 04:26:26  12.159722    13.2689              4        0.010025   \n",
       "\n",
       "                           lat       lon   elev     speed        date  day  \\\n",
       "point_time                                                                   \n",
       "2018-08-09 04:26:22  50.164228  5.673490  412.8  5.082558  2018-08-09    9   \n",
       "2018-08-09 04:26:23  50.164232  5.673561  412.8  5.082558  2018-08-09    9   \n",
       "2018-08-09 04:26:24  50.164238  5.673631  412.6  5.082558  2018-08-09    9   \n",
       "2018-08-09 04:26:25  50.164244  5.673700  412.8  5.082558  2018-08-09    9   \n",
       "2018-08-09 04:26:26  50.164247  5.673769  412.6  5.082558  2018-08-09    9   \n",
       "\n",
       "                     weekday  hour  start_time  elev_change  \n",
       "point_time                                                   \n",
       "2018-08-09 04:26:22        3     4  start_time          NaN  \n",
       "2018-08-09 04:26:23        3     4          no          0.0  \n",
       "2018-08-09 04:26:24        3     4          no         -0.2  \n",
       "2018-08-09 04:26:25        3     4          no          0.2  \n",
       "2018-08-09 04:26:26        3     4          no         -0.2  "
      ]
     },
     "execution_count": 320,
     "metadata": {},
     "output_type": "execute_result"
    }
   ],
   "source": [
    "test['segment_length'] = pd.DataFrame(list_, index=test.index)"
   ]
  },
  {
   "cell_type": "markdown",
   "metadata": {},
   "source": [
    "# plots "
   ]
  },
  {
   "cell_type": "code",
   "execution_count": 157,
   "metadata": {},
   "outputs": [
    {
     "data": {
      "text/plain": [
       "<matplotlib.axes._subplots.AxesSubplot at 0x7f495d847b00>"
      ]
     },
     "execution_count": 157,
     "metadata": {},
     "output_type": "execute_result"
    },
    {
     "data": {
      "image/png": "[encoded data removed]",
      "text/plain": [
       "<matplotlib.figure.Figure at 0x7f495d82f278>"
      ]
     },
     "metadata": {},
     "output_type": "display_data"
    }
   ],
   "source": [
    "test = test.set_index('point_time')\n",
    "fig, ax = plt.subplots(figsize=[14,5])\n",
    "(test.sort_index().reindex(time_range,fill_value=np.nan)\n",
    " .resample('10min')['elev'].mean().plot(ax=ax))"
   ]
  },
  {
   "cell_type": "code",
   "execution_count": 96,
   "metadata": {},
   "outputs": [
    {
     "data": {
      "image/png": "[encoded data removed]",
      "text/plain": [
       "<matplotlib.figure.Figure at 0x7efdd271e668>"
      ]
     },
     "metadata": {},
     "output_type": "display_data"
    }
   ],
   "source": [
    "num_cols = ['length', 'max_speed', 'duration', 'elev', 'speed']\n",
    "fig, ax = plt.subplots(len(num_cols), 1, figsize= [8,10])\n",
    "\n",
    "for i, col in enumerate(df[num_cols].columns):\n",
    "    df[col].hist(bins=20, ax=ax[i])\n",
    "    ax[i].set_title(col)\n",
    "plt.tight_layout()"
   ]
  },
  {
   "cell_type": "code",
   "execution_count": 231,
   "metadata": {},
   "outputs": [],
   "source": [
    "df['elev_bins'] = pd.cut(df['elev'], bins = [0, 500, 1000, 1500, 2000], \n",
    "                         labels=['0-500', '500-1000', '1000-1500', '1500-2000'])"
   ]
  },
  {
   "cell_type": "code",
   "execution_count": 234,
   "metadata": {},
   "outputs": [
    {
     "data": {
      "text/plain": [
       "<matplotlib.axes._subplots.AxesSubplot at 0x7f3c053c92b0>"
      ]
     },
     "execution_count": 234,
     "metadata": {},
     "output_type": "execute_result"
    },
    {
     "data": {
      "image/png": "[encoded data removed]",
      "text/plain": [
       "<matplotlib.figure.Figure at 0x7f3c065d5748>"
      ]
     },
     "metadata": {},
     "output_type": "display_data"
    }
   ],
   "source": [
    "fig,ax = plt.subplots(figsize = [12,12], facecolor = '0.05')\n",
    "ax.set_aspect('equal')\n",
    "ax.set_axis_off()\n",
    "df.plot(color = 'deepskyblue', lw = 0.9, alpha = 0.8, ax=ax)"
   ]
  }
 ],
 "metadata": {
  "kernelspec": {
   "display_name": "Python 3",
   "language": "python",
   "name": "python3"
  },
  "language_info": {
   "codemirror_mode": {
    "name": "ipython",
    "version": 3
   },
   "file_extension": ".py",
   "mimetype": "text/x-python",
   "name": "python",
   "nbconvert_exporter": "python",
   "pygments_lexer": "ipython3",
   "version": "3.6.4"
  }
 },
 "nbformat": 4,
 "nbformat_minor": 2
}
