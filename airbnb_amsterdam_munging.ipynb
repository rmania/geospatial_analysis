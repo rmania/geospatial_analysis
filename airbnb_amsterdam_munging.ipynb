{
 "cells": [
  {
   "cell_type": "markdown",
   "metadata": {},
   "source": [
    "## Airbnb cleaning script\n",
    "\n",
    "script to clean the airbnb file downloaded from AirBNB, enriching with offical geographical data from the City of amsterdam (using offical WFS layers hosted at api.data.amsterdam.nl) \n",
    "Files are then stored for further analysis"
   ]
  },
  {
   "cell_type": "code",
   "execution_count": 26,
   "metadata": {},
   "outputs": [],
   "source": [
    "%matplotlib inline\n",
    "import sys\n",
    "import os\n",
    "import matplotlib.pyplot as plt\n",
    "import pandas as pd\n",
    "import numpy as np\n",
    "import geopandas as gp\n",
    "from shapely.geometry import Point, Polygon, MultiPolygon, LineString, MultiLineString\n",
    "\n",
    "# helper functions\n",
    "sys.path.insert(0, 'helper_functions/')\n",
    "from logger_settings import logger\n",
    "from wfs_processing import get_available_layers_from_wfs, get_layer_from_wfs\n",
    "pd.set_option('display.max_columns', 100)\n",
    "\n",
    "# data downloaded from http://insideairbnb.com/get-the-data.html\n",
    "PATH_TO_DATA = '/home/diederik/ams/pyprojects/geospatial_analysis/data/'\n",
    "AIR_BNB_FILE_SUMMARY = 'airbnb_ams_listings_summary.csv' # summary version\n",
    "AIR_BNB_FILE_FULL = 'airbnb_ams_listings_full.csv' # summary version\n",
    "\n",
    "# ams gebieden from WFS (). For full services see: https://api.data.amsterdam.nl/api/\n",
    "url_wfs = 'https://map.data.amsterdam.nl/maps/gebieden'"
   ]
  },
  {
   "cell_type": "code",
   "execution_count": 2,
   "metadata": {},
   "outputs": [
    {
     "name": "stderr",
     "output_type": "stream",
     "text": [
      "Mon, 06 Aug 2018 14:09:06 INFO     layername: buurt\n",
      "Mon, 06 Aug 2018 14:09:06 INFO     layername: buurt_simple\n",
      "Mon, 06 Aug 2018 14:09:06 INFO     layername: buurtcombinatie\n",
      "Mon, 06 Aug 2018 14:09:06 INFO     layername: buurtcombinatie_simple\n",
      "Mon, 06 Aug 2018 14:09:06 INFO     layername: gebiedsgerichtwerken\n",
      "Mon, 06 Aug 2018 14:09:06 INFO     layername: stadsdeel\n",
      "Mon, 06 Aug 2018 14:09:06 INFO     layername: bouwblok\n",
      "Mon, 06 Aug 2018 14:09:06 INFO     layername: grootstedelijkgebied\n",
      "Mon, 06 Aug 2018 14:09:06 INFO     layername: unesco\n",
      "Mon, 06 Aug 2018 14:09:06 INFO     layername: buurt_label\n",
      "Mon, 06 Aug 2018 14:09:06 INFO     layername: buurtcombinatie_label\n",
      "Mon, 06 Aug 2018 14:09:06 INFO     layername: gebiedsgerichtwerken_label\n",
      "Mon, 06 Aug 2018 14:09:06 INFO     layername: stadsdeel_label\n",
      "Mon, 06 Aug 2018 14:09:06 INFO     layername: bouwblok_label\n",
      "Mon, 06 Aug 2018 14:09:06 INFO     layername: grootstedelijkgebied_label\n",
      "Mon, 06 Aug 2018 14:09:06 INFO     layername: unesco_label\n"
     ]
    },
    {
     "data": {
      "text/plain": [
       "['buurt',\n",
       " 'buurt_simple',\n",
       " 'buurtcombinatie',\n",
       " 'buurtcombinatie_simple',\n",
       " 'gebiedsgerichtwerken',\n",
       " 'stadsdeel',\n",
       " 'bouwblok',\n",
       " 'grootstedelijkgebied',\n",
       " 'unesco',\n",
       " 'buurt_label',\n",
       " 'buurtcombinatie_label',\n",
       " 'gebiedsgerichtwerken_label',\n",
       " 'stadsdeel_label',\n",
       " 'bouwblok_label',\n",
       " 'grootstedelijkgebied_label',\n",
       " 'unesco_label']"
      ]
     },
     "execution_count": 2,
     "metadata": {},
     "output_type": "execute_result"
    }
   ],
   "source": [
    "# see what layers are available (see code in helper_functions section)\n",
    "get_available_layers_from_wfs(url_wfs=url_wfs)"
   ]
  },
  {
   "cell_type": "code",
   "execution_count": 3,
   "metadata": {},
   "outputs": [
    {
     "name": "stderr",
     "output_type": "stream",
     "text": [
      "Mon, 06 Aug 2018 14:09:06 INFO     Requesting data from https://map.data.amsterdam.nl/maps/gebieden, layer: stadsdeel\n",
      "Mon, 06 Aug 2018 14:09:07 INFO     8 features returned.\n",
      "Mon, 06 Aug 2018 14:09:07 INFO     Requesting data from https://map.data.amsterdam.nl/maps/gebieden, layer: buurtcombinatie\n",
      "Mon, 06 Aug 2018 14:09:07 INFO     99 features returned.\n",
      "Mon, 06 Aug 2018 14:09:07 INFO     Requesting data from https://map.data.amsterdam.nl/maps/gebieden, layer: buurt\n",
      "Mon, 06 Aug 2018 14:09:09 INFO     481 features returned.\n"
     ]
    }
   ],
   "source": [
    "# we will load in stadsdelen (boroughs), buurtcombinaties (districts) and buurten (neighbourhoods)\n",
    "from wfs_processing import get_sd_layer, get_bc_layer, get_buurt_layer\n",
    "sd = get_sd_layer()\n",
    "buurt_combi = get_bc_layer()\n",
    "buurt = get_buurt_layer()"
   ]
  },
  {
   "cell_type": "code",
   "execution_count": 4,
   "metadata": {
    "scrolled": false
   },
   "outputs": [],
   "source": [
    "# load airbnb data\n",
    "date_cols = ['last_review']\n",
    "df= (pd.read_csv(PATH_TO_DATA + AIR_BNB_FILE_SUMMARY, parse_dates=date_cols, \n",
    "                 decimal = ',').dropna(how= 'all', axis=1))\n",
    "\n",
    "df['price'] = df['price'].astype(float) \n",
    "\n",
    "df = df.rename(columns = {'longitude': 'lon', 'latitude': 'lat'})\n",
    "# lon, lat to float\n",
    "for col in ['lon', 'lat']:\n",
    "    df[col] = df[col].astype(float)"
   ]
  },
  {
   "cell_type": "code",
   "execution_count": 5,
   "metadata": {},
   "outputs": [
    {
     "data": {
      "image/png": "[encoded data removed]",
      "text/plain": [
       "<matplotlib.figure.Figure at 0x7f32146829e8>"
      ]
     },
     "metadata": {},
     "output_type": "display_data"
    }
   ],
   "source": [
    "_, bins = pd.qcut(df['price'], q=[0.0001, 0.99], retbins=True)\n",
    "ax = df['price'].hist(bins=100, range=(0,1000), figsize= [12,5])\n",
    "\n",
    "for b in bins:\n",
    "    ax.axvline(b, color='r')"
   ]
  },
  {
   "cell_type": "code",
   "execution_count": 6,
   "metadata": {},
   "outputs": [],
   "source": [
    "# skim off the extreme prices (bins = array([ -10.,  455.]))\n",
    "df = df[(df['price'] > bins[0]) & (df['price'] < bins[1])]"
   ]
  },
  {
   "cell_type": "code",
   "execution_count": 21,
   "metadata": {},
   "outputs": [
    {
     "data": {
      "text/plain": [
       "Text(0.5,1,'Emperical Distribution')"
      ]
     },
     "execution_count": 21,
     "metadata": {},
     "output_type": "execute_result"
    },
    {
     "data": {
      "image/png": "[encoded data removed]",
      "text/plain": [
       "<matplotlib.figure.Figure at 0x7f3211f0a978>"
      ]
     },
     "metadata": {},
     "output_type": "display_data"
    }
   ],
   "source": [
    "# let's viz the price\n",
    "def ecdf(data):\n",
    "    return np.sort(data), np.arange(1, len(data)+1) / len(data)\n",
    "\n",
    "x, y = ecdf(df['price'])\n",
    "plt.scatter(x,y)\n",
    "plt.title('Emperical Distribution')"
   ]
  },
  {
   "cell_type": "code",
   "execution_count": 7,
   "metadata": {},
   "outputs": [],
   "source": [
    "crs_initial = {'init': 'epsg:4326'} \n",
    "geometry = [Point(xy) for xy in zip(df.lon, df.lat)]\n",
    "df = gp.GeoDataFrame(df, crs=crs_initial, geometry=geometry)\n",
    "df = df.drop(['lon', 'lat'], axis=1)\n",
    "\n",
    "# change to RD new Amersfoort\n",
    "crs = {'init': 'epsg:28992'}\n",
    "df = df.to_crs(crs=crs)"
   ]
  },
  {
   "cell_type": "code",
   "execution_count": 9,
   "metadata": {},
   "outputs": [
    {
     "data": {
      "text/html": [
       "<div>\n",
       "<style scoped>\n",
       "    .dataframe tbody tr th:only-of-type {\n",
       "        vertical-align: middle;\n",
       "    }\n",
       "\n",
       "    .dataframe tbody tr th {\n",
       "        vertical-align: top;\n",
       "    }\n",
       "\n",
       "    .dataframe thead th {\n",
       "        text-align: right;\n",
       "    }\n",
       "</style>\n",
       "<table border=\"1\" class=\"dataframe\">\n",
       "  <thead>\n",
       "    <tr style=\"text-align: right;\">\n",
       "      <th></th>\n",
       "      <th>id</th>\n",
       "      <th>name</th>\n",
       "      <th>host_id</th>\n",
       "      <th>host_name</th>\n",
       "      <th>neighbourhood</th>\n",
       "      <th>room_type</th>\n",
       "      <th>price</th>\n",
       "      <th>minimum_nights</th>\n",
       "      <th>number_of_reviews</th>\n",
       "      <th>last_review</th>\n",
       "      <th>reviews_per_month</th>\n",
       "      <th>calculated_host_listings_count</th>\n",
       "      <th>availability_365</th>\n",
       "      <th>geometry</th>\n",
       "    </tr>\n",
       "  </thead>\n",
       "  <tbody>\n",
       "    <tr>\n",
       "      <th>0</th>\n",
       "      <td>2818</td>\n",
       "      <td>Quiet Garden View Room &amp; Super Fast WiFi</td>\n",
       "      <td>3159</td>\n",
       "      <td>Daniel</td>\n",
       "      <td>Oostelijk Havengebied - Indische Buurt</td>\n",
       "      <td>Private room</td>\n",
       "      <td>69.0</td>\n",
       "      <td>3</td>\n",
       "      <td>233</td>\n",
       "      <td>2018-06-24</td>\n",
       "      <td>2.06</td>\n",
       "      <td>1</td>\n",
       "      <td>116</td>\n",
       "      <td>POINT (124637.2554813915 486523.2381693435)</td>\n",
       "    </tr>\n",
       "  </tbody>\n",
       "</table>\n",
       "</div>"
      ],
      "text/plain": [
       "     id                                      name  host_id host_name  \\\n",
       "0  2818  Quiet Garden View Room & Super Fast WiFi     3159    Daniel   \n",
       "\n",
       "                            neighbourhood     room_type  price  \\\n",
       "0  Oostelijk Havengebied - Indische Buurt  Private room   69.0   \n",
       "\n",
       "   minimum_nights  number_of_reviews last_review reviews_per_month  \\\n",
       "0               3                233  2018-06-24              2.06   \n",
       "\n",
       "   calculated_host_listings_count  availability_365  \\\n",
       "0                               1               116   \n",
       "\n",
       "                                      geometry  \n",
       "0  POINT (124637.2554813915 486523.2381693435)  "
      ]
     },
     "execution_count": 9,
     "metadata": {},
     "output_type": "execute_result"
    }
   ],
   "source": [
    "df.head(1)"
   ]
  },
  {
   "cell_type": "markdown",
   "metadata": {},
   "source": [
    "The Airbnb contains neighboordhood names that don't seem proper. Let's use the offical names  of the 'stadsdelen', 'wijken' and 'buurten' of the municipality of amsterdam as offered in their WFS geojsons. We merge the data back on the dataframe by applying spatial joins (intersect)"
   ]
  },
  {
   "cell_type": "code",
   "execution_count": 11,
   "metadata": {},
   "outputs": [
    {
     "name": "stdout",
     "output_type": "stream",
     "text": [
      "df shape after join with stadsdelen: (19316, 16)\n",
      "df shape after join with buurt_combinatie: (19316, 18)\n",
      "df shape after join with buurt: (19316, 20)\n"
     ]
    }
   ],
   "source": [
    "# add the stadsdelen\n",
    "df = (gp.sjoin(df, sd[['geometry', 'sd_code', 'sd_name']], how='inner', op='intersects')\n",
    "     .drop('index_right', axis=1))\n",
    "print ('df shape after join with {}: {}'.format(sd.name, df.shape))\n",
    "\n",
    "# add the districts\n",
    "df = (gp.sjoin(df, buurt_combi, how='inner', op = 'intersects')\n",
    "        .drop('index_right', axis=1))\n",
    "print ('df shape after join with {}: {}'.format(buurt_combi.name, df.shape))\n",
    "\n",
    "# add the neighbourhoods\n",
    "df = (gp.sjoin(df, buurt, how='inner', op = 'intersects')\n",
    "        .drop('index_right', axis=1))\n",
    "print ('df shape after join with {}: {}'.format(buurt.name, df.shape))"
   ]
  },
  {
   "cell_type": "code",
   "execution_count": 19,
   "metadata": {},
   "outputs": [],
   "source": [
    "# write to csv\n",
    "df.to_csv(PATH_TO_DATA + 'airbnb_munged.csv', index=False)\n",
    "sd.to_csv(PATH_TO_DATA + 'sd.csv', index=False)\n",
    "buurt_combi.to_csv(PATH_TO_DATA + 'buurt_combi.csv', index=False)\n",
    "buurt.to_csv(PATH_TO_DATA + 'buurt.csv', index=False)"
   ]
  }
 ],
 "metadata": {
  "kernelspec": {
   "display_name": "Python 3",
   "language": "python",
   "name": "python3"
  },
  "language_info": {
   "codemirror_mode": {
    "name": "ipython",
    "version": 3
   },
   "file_extension": ".py",
   "mimetype": "text/x-python",
   "name": "python",
   "nbconvert_exporter": "python",
   "pygments_lexer": "ipython3",
   "version": "3.6.4"
  }
 },
 "nbformat": 4,
 "nbformat_minor": 2
}
